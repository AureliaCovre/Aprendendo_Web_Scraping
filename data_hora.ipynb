{
 "cells": [
  {
   "cell_type": "markdown",
   "metadata": {},
   "source": [
    "# Projeto Web Scraping"
   ]
  },
  {
   "cell_type": "markdown",
   "metadata": {},
   "source": [
    "### Data e Hora"
   ]
  },
  {
   "cell_type": "code",
   "execution_count": 1,
   "metadata": {},
   "outputs": [],
   "source": [
    "import urllib3 # Importa a biblioteca urllib3 para fazer solicitações HTTP\n",
    "from bs4 import BeautifulSoup # Importa BeautifulSoup para analisar HTML"
   ]
  },
  {
   "cell_type": "code",
   "execution_count": 2,
   "metadata": {},
   "outputs": [],
   "source": [
    "\n",
    "# Função responsável por fazer uma solicitação HTTP GET, utilizando a biblioteca urllib3\n",
    "def faz_requisicao(site):\n",
    "    urllib3.disable_warnings(urllib3.exceptions.InsecureRequestWarning) # Desativa avisos de certificado não confiável\n",
    "    manager = urllib3.PoolManager()\n",
    "    return  manager.request(\"GET\", site, headers={\"User-Agent\":\"Mozilla/5.0\"})\n",
    "\n",
    "\n",
    "# Faz a requisição HTTP para o 'site' e retorna um objeto BeautifulSoup para análise.\n",
    "def le_site(site):\n",
    "    response = faz_requisicao(site)  # Faz a requisição HTTP\n",
    "    return BeautifulSoup(response.data, \"html.parser\") # Retorna um objeto BeautifulSoup"
   ]
  },
  {
   "cell_type": "code",
   "execution_count": 3,
   "metadata": {},
   "outputs": [],
   "source": [
    "# Variável que define a URL\n",
    "url = \"https://www.horariodebrasilia.org/\""
   ]
  },
  {
   "cell_type": "code",
   "execution_count": 4,
   "metadata": {},
   "outputs": [
    {
     "name": "stdout",
     "output_type": "stream",
     "text": [
      " Horário: 09:58:33\n"
     ]
    }
   ],
   "source": [
    "# Obtém a hora do site\n",
    "bs = le_site(url)  # Chama a função le_site para acessar o site\n",
    "tag_hora = bs.find(\"p\", id=\"relogio\") # Procurando o elemento <p> com id=\"relogio\"\n",
    "if tag_hora:\n",
    "    hora = tag_hora.text.strip() # Extrai o texto e remove espaços em branco\n",
    "    print(f\" Horário: {hora}\") \n",
    "else:\n",
    "    print(f\" hora em {url} não encontrata\")"
   ]
  },
  {
   "cell_type": "code",
   "execution_count": 5,
   "metadata": {},
   "outputs": [
    {
     "name": "stdout",
     "output_type": "stream",
     "text": [
      "Dia: Sexta-feira, 29 de setembro de 2023\n"
     ]
    }
   ],
   "source": [
    "# Obtém a dia do site\n",
    "bs = le_site(url) # Chama a função le_site novamente para acessar o site\n",
    "tag_dia = bs.find(\"h3\", id=\"dia-topo\") # Procura por um elemento <h3> com id=\"dia-topo\"\n",
    "if tag_dia:\n",
    "    dia = tag_dia.text.strip() # Extrai o texto e remove espaços em branco\n",
    "    print(f\"Dia: {dia}\") \n",
    "else:\n",
    "    print(\"Tag do dia não encontrada no site.\")"
   ]
  }
 ],
 "metadata": {
  "kernelspec": {
   "display_name": "Python 3",
   "language": "python",
   "name": "python3"
  },
  "language_info": {
   "codemirror_mode": {
    "name": "ipython",
    "version": 3
   },
   "file_extension": ".py",
   "mimetype": "text/x-python",
   "name": "python",
   "nbconvert_exporter": "python",
   "pygments_lexer": "ipython3",
   "version": "3.10.5"
  },
  "orig_nbformat": 4
 },
 "nbformat": 4,
 "nbformat_minor": 2
}
